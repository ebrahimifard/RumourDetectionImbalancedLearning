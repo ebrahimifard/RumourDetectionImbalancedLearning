{
 "cells": [
  {
   "cell_type": "code",
   "execution_count": null,
   "metadata": {},
   "outputs": [],
   "source": [
    "import os\n",
    "from tqdm import tqdm\n",
    "import json\n",
    "import numpy as np\n",
    "import re\n",
    "import pandas as pd\n",
    "import pickle as pk\n",
    "import copy\n",
    "import datetime\n",
    "from sklearn import preprocessing"
   ]
  },
  {
   "cell_type": "code",
   "execution_count": null,
   "metadata": {},
   "outputs": [],
   "source": [
    "# Addresses\n",
    "featureSerializationAdr = \"./Serialization/Features/\""
   ]
  },
  {
   "cell_type": "code",
   "execution_count": null,
   "metadata": {},
   "outputs": [],
   "source": [
    "# After raw feature extraction, we need to do some cleaning and sanitation"
   ]
  },
  {
   "cell_type": "code",
   "execution_count": null,
   "metadata": {},
   "outputs": [],
   "source": [
    "import matplotlib.pyplot as plt"
   ]
  },
  {
   "cell_type": "code",
   "execution_count": null,
   "metadata": {},
   "outputs": [],
   "source": [
    "kn_old_withoutLIWC = pk.load(open(featureSerializationAdr + \"keralaNonRumoursFeaturesWithoutLIWC.PK\", \"rb\")) # keralaNonRumoursFeatures\n",
    "kn_LIWC = pk.load(open(featureSerializationAdr + \"keralaNonRumoursLIWC.PK\", \"rb\")) # keralaNonRumoursFeatures\n",
    "kn_withoutLIWC_newFeatures = pk.load(open(featureSerializationAdr + \"keralaNonRumoursFeaturesWithoutLIWC_SomeNewFeatures.PK\", \"rb\")) # keralaNonRumoursFeatures\n",
    "kn_withLIWC_newFeatures = pk.load(open(featureSerializationAdr + \"keralaNonRumoursFeaturesWithLIWC_SomeNewFeatures.PK\", \"rb\")) # keralaNonRumoursFeatures\n",
    "kn = pk.load(open(featureSerializationAdr + \"keralaNonRumoursWithLIWC_NewFeatures.PK\", \"rb\")) # keralaNonRumoursFeatures"
   ]
  },
  {
   "cell_type": "code",
   "execution_count": null,
   "metadata": {},
   "outputs": [],
   "source": [
    "kr_old_withoutLIWC = pk.load(open(featureSerializationAdr + \"keralaRumoursFeaturesWithoutLIWC.PK\", \"rb\")) # keralaRumoursFeatures\n",
    "kr_LIWC = pk.load(open(featureSerializationAdr + \"keralaRumoursLIWC.PK\", \"rb\")) # keralaRumoursFeatures\n",
    "kr_withoutLIWC_newFeatures = pk.load(open(featureSerializationAdr + \"keralaRumoursFeaturesWithoutLIWC_SomeNewFeatures.PK\", \"rb\")) # keralaRumoursFeatures\n",
    "kr_withLIWC_newFeatures = pk.load(open(featureSerializationAdr + \"keralaRumoursFeaturesWithLIWC_SomeNewFeatures.PK\", \"rb\")) # keralaRumoursFeatures\n",
    "kr = pk.load(open(featureSerializationAdr + \"keralaRumoursWithLIWC_NewFeatures.PK\", \"rb\")) # keralaRumoursFeatures"
   ]
  },
  {
   "cell_type": "code",
   "execution_count": null,
   "metadata": {},
   "outputs": [],
   "source": [
    "kr[[\"id\", \"text\", \"characterCount\", \"tokenCount\", \"sentenceCount\", \"averageWordComplexity\", \"averageSentenceComplexity\", \"Sixltr\", \"averageWordsyllables\", \"difficult_words\", \"flesch_reading_ease\", \"flesch_kincaid_grade\", \"automated_readability_index\", \"dale_chall_readability_score\", \"gunning_fog\", \"tweetComplexity\", \"MD\", \"VB\", \"VBD\", \"VBG\", \"VBN\", \"VBP\", \"VBZ\", \"AFX\", \"JJ\", \"JJR\", \"JJS\", \"PDT\", \"PRP$\", \"WDT\", \"WP$\", \"EX\", \"RB\", \"RBR\", \"RBS\", \"WRB\", \"NN\", \"NNS\", \"WP\", \"NNP\", \"NNPS\", \"RP\", \"TO\", \"CC\", \"CD\", \"DT\", \"IN\", \"POS\", \"PRP\", \"UH\", \"function\", \"swear\", \"emoticonCount\", \"abbreviationCount\", \"emojiCount\", \"netspeak\", \"exclamationMarkCount\", \"questionMarkCount\", \"punctuationFrac\", \"upperCaseCharFrac\", \"capitalWordFrac\", \"witnessPhrases\", \"subjectivityScore\", \"polarityScore\", \"anger\", \"disgust\", \"fear\", \"sad\", \"surprise\", \"trust\", \"anx\", \"compoundEmotion\", \"arousalScore\", \"dominanceScore\", \"hateSpeech\", \"tentat\", \"certain\", \"Analytic\", \"Clout\", \"Tone\", \"followingCount\", \"influnece\", \"userRole\", \"accountAge\", \"totalProfileLikesCount\", \"statusCount\", \"averageFollowSpeed\", \"averageBeingFollowedSpeed\", \"averageLikeSpeed\", \"averageStatusSpeed\", \"isVerifiedAccount\", \"userDescriptionReputation\", \"userDescriptionNotoriety\", \"userUrlReputation\", \"userUrlNotoriety\", \"hasProfileLocation\", \"hasProfilePicture\", \"geoEnabled\", \"hasProfileUrl\", \"hasProfileDescription\", \"screenNameLength\", \"screenNameDigitCount\", \"protectedProfile\", \"personNameInProfile\", \"organizationInProfile\", \"locationInProfile\", \"source\", \"urlAvailability\", \"mediaAvailability\", \"quoteAvailability\", \"monoSource\", \"doubleSource\", \"trippleSource\", \"firstHandSourceCount\", \"secondHandSourceCount\", \"urlNotoriety\", \"urlReputation\", \"quoteReputation\", \"quoteNotoriety\"]]"
   ]
  },
  {
   "cell_type": "code",
   "execution_count": null,
   "metadata": {},
   "outputs": [],
   "source": [
    "officialClients = [\"Twitter for iPhone\", \"Twitter for Android\", \"Twitter Web Client\", \"Twitter for iPad\", \"Mobile Web (M5)\", \"TweetDeck\", \"Facebook\", \"Twitter for Windows\", \"Mobile Web (M2)\", \"Twitter for Windows Phone\", \"Mobile Web\", \"Google\", \"Twitter for BlackBerry\", \"Twitter for Android Tablets\", \"Twitter for Mac\", \"iOS\", \"Twitter for BlackBerry®\"]"
   ]
  },
  {
   "cell_type": "code",
   "execution_count": null,
   "metadata": {},
   "outputs": [],
   "source": [
    "# Loading the serialized features\n",
    "\n",
    "kN_raw = pk.load(open(featureSerializationAdr + \"\", \"rb\")) # keralaNonRumoursFeatures\n",
    "kR_raw = pk.load(open(featureSerializationAdr + \"\", \"rb\")) # keralaRumoursFeatures\n",
    "fN_raw = pk.load(open(featureSerializationAdr + \"\", \"rb\")) # florenceNonRumoursFeatures\n",
    "fR_raw = pk.load(open(featureSerializationAdr + \"\", \"rb\")) # florenceRumoursFeatures"
   ]
  },
  {
   "cell_type": "code",
   "execution_count": null,
   "metadata": {},
   "outputs": [],
   "source": [
    "# Takimg care of datatypes ... "
   ]
  },
  {
   "cell_type": "code",
   "execution_count": null,
   "metadata": {},
   "outputs": [],
   "source": [
    "# First-Order Pre-Processing (FOP) (Leaving out most of the non-numeric features) (We keep \"source\", \"tweet_id\")\n",
    "nonNumericFeatures = []"
   ]
  },
  {
   "cell_type": "code",
   "execution_count": null,
   "metadata": {},
   "outputs": [],
   "source": [
    "# Leaving out the non-numerical features and non-early features (like and retweet)\n",
    "kN_FOP = kN_raw.drop(columns=nonNumericFeatures)\n",
    "kR_FOP = kR_raw.drop(columns=nonNumericFeatures)\n",
    "fN_FOP = fN_raw.drop(columns=nonNumericFeatures)\n",
    "fR_FOP = fR_raw.drop(columns=nonNumericFeatures)"
   ]
  },
  {
   "cell_type": "code",
   "execution_count": null,
   "metadata": {},
   "outputs": [],
   "source": [
    "# Turning all bollean columns to integer\n",
    "df_keralaRumoursFeatures_processed_V2 = copy.deepcopy(df_keralaRumoursFeatures_processed_V1)\n",
    "df_keralaNonRumoursFeatures_processed_V2 = copy.deepcopy(df_keralaNonRumoursFeatures_processed_V1)\n",
    "df_florenceRumoursFeatures_processed_V2 = copy.deepcopy(df_florenceRumoursFeatures_processed_V1)\n",
    "df_florenceNonRumoursFeatures_processed_V2 = copy.deepcopy(df_florenceNonRumoursFeatures_processed_V1)\n",
    "\n",
    "\n",
    "boolCol1 = [i for i in df_keralaRumoursFeatures_processed_V1.columns if df_keralaRumoursFeatures_processed_V1.dtypes[i] == 'bool']\n",
    "boolCol2 = [i for i in df_keralaNonRumoursFeatures_processed_V1.columns if df_keralaNonRumoursFeatures_processed_V1.dtypes[i] == 'bool']\n",
    "boolCol3 = [i for i in df_florenceRumoursFeatures_processed_V1.columns if df_florenceRumoursFeatures_processed_V1.dtypes[i] == 'bool']\n",
    "boolCol4 = [i for i in df_florenceNonRumoursFeatures_processed_V1.columns if df_florenceNonRumoursFeatures_processed_V1.dtypes[i] == 'bool']\n",
    "\n",
    "\n",
    "for col1 in boolCol1:\n",
    "    df_keralaRumoursFeatures_processed_V2[col1] = df_keralaRumoursFeatures_processed_V1[col1].astype(int)\n",
    "for col2 in boolCol2:\n",
    "    df_keralaNonRumoursFeatures_processed_V2[col2] = df_keralaNonRumoursFeatures_processed_V1[col2].astype(int)\n",
    "for col3 in boolCol3:\n",
    "    df_florenceRumoursFeatures_processed_V2[col3] = df_florenceRumoursFeatures_processed_V1[col3].astype(int)\n",
    "for col4 in boolCol4:\n",
    "    df_florenceNonRumoursFeatures_processed_V2[col4] = df_florenceNonRumoursFeatures_processed_V1[col4].astype(int)"
   ]
  },
  {
   "cell_type": "code",
   "execution_count": null,
   "metadata": {},
   "outputs": [],
   "source": [
    "#Turning all commas to dots!\n",
    "for col in df_keralaNonRumoursFeatures_processed_V2.columns:\n",
    "    df_keralaRumoursFeatures_processed_V2[col] = df_keralaRumoursFeatures_processed_V2[col].replace(\",\",\".\",regex=True) \n",
    "    df_keralaNonRumoursFeatures_processed_V2[col] = df_keralaNonRumoursFeatures_processed_V2[col].replace(\",\",\".\",regex=True)\n",
    "    df_florenceRumoursFeatures_processed_V2[col] = df_florenceRumoursFeatures_processed_V2[col].replace(\",\",\".\",regex=True) \n",
    "    df_florenceNonRumoursFeatures_processed_V2[col] = df_florenceNonRumoursFeatures_processed_V2[col].replace(\",\",\".\",regex=True)"
   ]
  },
  {
   "cell_type": "code",
   "execution_count": null,
   "metadata": {},
   "outputs": [],
   "source": [
    "#Turning some innocent object data to numeric version!\n",
    "for col in ['insight', 'tentative', 'positiveEmotion', 'negativeEmotion', 'anxiety', 'certainty', 'tone']:\n",
    "    df_keralaRumoursFeatures_processed_V2[col] = df_keralaRumoursFeatures_processed_V2[col].astype('float64')\n",
    "    df_keralaNonRumoursFeatures_processed_V2[col] = df_keralaNonRumoursFeatures_processed_V2[col].astype('float64')\n",
    "    df_florenceRumoursFeatures_processed_V2[col] = df_florenceRumoursFeatures_processed_V2[col].astype('float64')\n",
    "    df_florenceNonRumoursFeatures_processed_V2[col] = df_florenceNonRumoursFeatures_processed_V2[col].astype('float64')"
   ]
  },
  {
   "cell_type": "code",
   "execution_count": null,
   "metadata": {},
   "outputs": [],
   "source": [
    "# Eliminating all the object data types\n",
    "objectCol = [i for i in df_keralaNonRumoursFeatures_processed_V2.columns if df_keralaNonRumoursFeatures_processed_V2.dtypes[i] == 'object' and i != 'category']\n",
    "for col in objectCol:\n",
    "    df_keralaRumoursFeatures_processed_V2 = df_keralaRumoursFeatures_processed_V2.drop(col,axis=\"columns\")\n",
    "    df_keralaNonRumoursFeatures_processed_V2 = df_keralaNonRumoursFeatures_processed_V2.drop(col,axis=\"columns\")\n",
    "    df_florenceRumoursFeatures_processed_V2 = df_florenceRumoursFeatures_processed_V2.drop(col,axis=\"columns\")\n",
    "    df_florenceNonRumoursFeatures_processed_V2 = df_florenceNonRumoursFeatures_processed_V2.drop(col,axis=\"columns\")"
   ]
  },
  {
   "cell_type": "code",
   "execution_count": null,
   "metadata": {},
   "outputs": [],
   "source": [
    "# Sanity check for infinite values\n",
    "df_keralaRumoursFeatures_processed_V2 = df_keralaRumoursFeatures_processed_V2.replace([np.inf, -np.inf], np.nan).dropna()\n",
    "df_keralaNonRumoursFeatures_processed_V2 = df_keralaNonRumoursFeatures_processed_V2.replace([np.inf, -np.inf], np.nan).dropna()\n",
    "df_florenceRumoursFeatures_processed_V2 = df_florenceRumoursFeatures_processed_V2.replace([np.inf, -np.inf], np.nan).dropna()\n",
    "df_florenceNonRumoursFeatures_processed_V2 = df_florenceNonRumoursFeatures_processed_V2.replace([np.inf, -np.inf], np.nan).dropna()"
   ]
  },
  {
   "cell_type": "code",
   "execution_count": null,
   "metadata": {},
   "outputs": [],
   "source": [
    "print(df_keralaRumoursFeatures_processed_V2.isnull().values.sum().sum())\n",
    "print(\"-----------\")\n",
    "print(df_keralaNonRumoursFeatures_processed_V2.isnull().values.sum().sum())\n",
    "print(\"-----------\")\n",
    "print(df_florenceRumoursFeatures_processed_V2.isnull().values.sum().sum())\n",
    "print(\"-----------\")\n",
    "print(df_florenceNonRumoursFeatures_processed_V2.isnull().values.sum().sum())"
   ]
  },
  {
   "cell_type": "code",
   "execution_count": null,
   "metadata": {},
   "outputs": [],
   "source": [
    "#Normalization\n",
    "x1 = df_keralaRumoursFeatures_processed_V2.values \n",
    "min_max_scaler1 = preprocessing.MinMaxScaler()\n",
    "x_scaled1 = min_max_scaler1.fit_transform(x1)\n",
    "df_keralaRumoursFeatures_processed_V2_normalized=pd.DataFrame(x_scaled1, columns=df_keralaRumoursFeatures_processed_V2.columns)\n",
    "\n",
    "x2 = df_keralaNonRumoursFeatures_processed_V2.values \n",
    "min_max_scaler2 = preprocessing.MinMaxScaler()\n",
    "x_scaled2 = min_max_scaler2.fit_transform(x2)\n",
    "df_keralaNonRumoursFeatures_processed_V2_normalized=pd.DataFrame(x_scaled2, columns=df_keralaNonRumoursFeatures_processed_V2.columns)\n",
    "\n",
    "x3 = df_florenceRumoursFeatures_processed_V2.values \n",
    "min_max_scaler3 = preprocessing.MinMaxScaler()\n",
    "x_scaled3 = min_max_scaler3.fit_transform(x3)\n",
    "df_florenceRumoursFeatures_processed_V2_normalized=pd.DataFrame(x_scaled3, columns=df_florenceRumoursFeatures_processed_V2.columns)\n",
    "\n",
    "x4 = df_florenceNonRumoursFeatures_processed_V2.values \n",
    "min_max_scaler4 = preprocessing.MinMaxScaler()\n",
    "x_scaled4 = min_max_scaler4.fit_transform(x4)\n",
    "df_florenceNonRumoursFeatures_processed_V2_normalized=pd.DataFrame(x_scaled4, columns=df_florenceNonRumoursFeatures_processed_V2.columns)"
   ]
  },
  {
   "cell_type": "code",
   "execution_count": null,
   "metadata": {},
   "outputs": [],
   "source": [
    "df_keralaRumoursFeatures_processed_V2_normalized.to_csv(\"./df_keralaRumoursFeatures_processed_V2_normalized_features.csv\")\n",
    "df_keralaNonRumoursFeatures_processed_V2_normalized.to_csv(\"./df_keralaNonRumoursFeatures_processed_V2_normalized_features.csv\")\n",
    "df_florenceRumoursFeatures_processed_V2_normalized.to_csv(\"./df_florenceRumoursFeatures_processed_V2_normalized_features.csv\")\n",
    "df_florenceNonRumoursFeatures_processed_V2_normalized.to_csv(\"./df_florenceNonRumoursFeatures_processed_V2_normalized_features.csv\")"
   ]
  }
 ],
 "metadata": {
  "kernelspec": {
   "display_name": "Python 3",
   "language": "python",
   "name": "python3"
  },
  "language_info": {
   "codemirror_mode": {
    "name": "ipython",
    "version": 3
   },
   "file_extension": ".py",
   "mimetype": "text/x-python",
   "name": "python",
   "nbconvert_exporter": "python",
   "pygments_lexer": "ipython3",
   "version": "3.7.3"
  }
 },
 "nbformat": 4,
 "nbformat_minor": 4
}

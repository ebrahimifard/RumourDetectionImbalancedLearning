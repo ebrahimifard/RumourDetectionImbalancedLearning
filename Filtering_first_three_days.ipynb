{
 "cells": [
  {
   "cell_type": "code",
   "execution_count": 2,
   "metadata": {},
   "outputs": [],
   "source": [
    "import pandas as pd\n",
    "import matplotlib.pyplot as plt\n",
    "import numpy as np\n",
    "import os\n",
    "import json\n",
    "from tqdm import tqdm\n",
    "from datetime import datetime\n",
    "import shutil\n",
    "import sys\n",
    "import pickle as pk"
   ]
  },
  {
   "cell_type": "code",
   "execution_count": 4,
   "metadata": {},
   "outputs": [],
   "source": [
    "adr_fr = \"\"\n",
    "adr_kr = \"\"\n",
    "adr_fr_3days = \"\"\n",
    "adr_kr_3days = \"\"\n",
    "adr_fr_replies = \"\"\n",
    "adr_kr_replies = \"\"\n",
    "\n",
    "adr_fn = \"\"\n",
    "adr_kn = \"\"\n",
    "adr_fn_3days = \"\"\n",
    "adr_kn_3days = \"\""
   ]
  },
  {
   "cell_type": "code",
   "execution_count": 87,
   "metadata": {},
   "outputs": [
    {
     "name": "stderr",
     "output_type": "stream",
     "text": [
      "100%|█████████████████████████████████| 196718/196718 [04:30<00:00, 726.95it/s]\n"
     ]
    }
   ],
   "source": [
    "first = \"12 Sep 2018\"\n",
    "last = \"14 Sep 2018\"\n",
    "first = datetime.strptime(first, \"%d %b %Y\")\n",
    "last = datetime.strptime(last, \"%d %b %Y\")\n",
    "\n",
    "for i in tqdm(os.listdir(adr_fr)):\n",
    "    dt = datetime.strptime(json.load(open(adr_fr+i))[\"created_at\"], \"%a %b %d %H:%M:%S %z %Y\")\n",
    "    dt = dt.strftime(\"%d %b %Y\")\n",
    "    dt = datetime.strptime(dt, \"%d %b %Y\")\n",
    "    \n",
    "    if dt>=first and dt<=last:\n",
    "        shutil.copy2(adr_fr+i,adr_fr_3days)"
   ]
  },
  {
   "cell_type": "code",
   "execution_count": 101,
   "metadata": {},
   "outputs": [
    {
     "name": "stderr",
     "output_type": "stream",
     "text": [
      "100%|████████████████████████████████| 147037/147037 [01:59<00:00, 1234.09it/s]\n"
     ]
    }
   ],
   "source": [
    "first = \"20 Aug 2018\"\n",
    "last = \"22 Aug 2018\"\n",
    "first = datetime.strptime(first, \"%d %b %Y\")\n",
    "last = datetime.strptime(last, \"%d %b %Y\")\n",
    "\n",
    "for i in tqdm(os.listdir(adr_kr)):\n",
    "    dt = datetime.strptime(json.load(open(adr_kr+i))[\"created_at\"], \"%a %b %d %H:%M:%S %z %Y\")\n",
    "    dt = dt.strftime(\"%d %b %Y\")\n",
    "    dt = datetime.strptime(dt, \"%d %b %Y\")\n",
    "    \n",
    "    if dt>=first and dt<=last:\n",
    "        shutil.copy2(adr_kr+i,adr_kr_3days)"
   ]
  },
  {
   "cell_type": "code",
   "execution_count": 103,
   "metadata": {},
   "outputs": [
    {
     "name": "stderr",
     "output_type": "stream",
     "text": [
      "100%|███████████████████████████████| 1635460/1635460 [34:42<00:00, 785.28it/s]\n"
     ]
    }
   ],
   "source": [
    "first = \"20 Aug 2018\"\n",
    "last = \"22 Aug 2018\"\n",
    "first = datetime.strptime(first, \"%d %b %Y\")\n",
    "last = datetime.strptime(last, \"%d %b %Y\")\n",
    "\n",
    "for i in tqdm(os.listdir(adr_kn)):\n",
    "    dt = datetime.strptime(json.load(open(adr_kn+i))[\"created_at\"], \"%a %b %d %H:%M:%S %z %Y\")\n",
    "    dt = dt.strftime(\"%d %b %Y\")\n",
    "    dt = datetime.strptime(dt, \"%d %b %Y\")\n",
    "    \n",
    "    if dt>=first and dt<=last:\n",
    "        shutil.copy2(adr_kn+i,adr_kn_3days)"
   ]
  },
  {
   "cell_type": "code",
   "execution_count": null,
   "metadata": {},
   "outputs": [],
   "source": [
    "first = \"12 Sep 2018\"\n",
    "last = \"14 Sep 2018\"\n",
    "first = datetime.strptime(first, \"%d %b %Y\")\n",
    "last = datetime.strptime(last, \"%d %b %Y\")\n",
    "\n",
    "for i in tqdm(os.listdir(adr_fn)):\n",
    "    dt = datetime.strptime(json.load(open(adr_fn+i))[\"created_at\"], \"%a %b %d %H:%M:%S %z %Y\")\n",
    "    dt = dt.strftime(\"%d %b %Y\")\n",
    "    dt = datetime.strptime(dt, \"%d %b %Y\")\n",
    "    \n",
    "    if dt>=first and dt<=last:\n",
    "        shutil.copy2(adr_fn+i,adr_fn_3days)"
   ]
  },
  {
   "cell_type": "code",
   "execution_count": 4,
   "metadata": {},
   "outputs": [
    {
     "name": "stderr",
     "output_type": "stream",
     "text": [
      "100%|██████████████████████████████| 3951514/3951514 [51:02<00:00, 1290.28it/s]\n"
     ]
    }
   ],
   "source": [
    "florenceReplies_num, florenceReplies_str = {}, {}\n",
    "c1, c2, c3, c4 = 0, 0, 0, 0\n",
    "\n",
    "for file in tqdm(os.listdir(adr_fn_3days)):\n",
    "    tweet = json.load(open(adr_fn_3days+file))\n",
    "    rumour_num = tweet[\"in_reply_to_status_id\"]\n",
    "    rumour_str = tweet[\"in_reply_to_status_id_str\"]\n",
    "    \n",
    "    if rumour_num != None:\n",
    "        if rumour_num in florenceReplies_num.keys():\n",
    "            florenceReplies_num[rumour_num].append(file.replace(\".json\",\"\"))\n",
    "            c1 += 1\n",
    "        else:\n",
    "            florenceReplies_num[rumour_num] = [file.replace(\".json\",\"\")]\n",
    "            c2 += 1\n",
    "            \n",
    "    if rumour_str != None:\n",
    "        if rumour_str in florenceReplies_str.keys():\n",
    "            florenceReplies_str[rumour_str].append(file.replace(\".json\",\"\"))\n",
    "            c3 += 1\n",
    "        else:\n",
    "            florenceReplies_str[rumour_str] = [file.replace(\".json\",\"\")]\n",
    "            c4 += 1"
   ]
  },
  {
   "cell_type": "code",
   "execution_count": 9,
   "metadata": {},
   "outputs": [
    {
     "name": "stderr",
     "output_type": "stream",
     "text": [
      "100%|████████████████████████████████| 663086/663086 [07:14<00:00, 1525.96it/s]\n"
     ]
    }
   ],
   "source": [
    "keralaReplies_num, keralaReplies_str = {}, {}\n",
    "d1, d2, d3, d4 = 0, 0, 0, 0\n",
    "\n",
    "for file in tqdm(os.listdir(adr_kn_3days)):\n",
    "    tweet = json.load(open(adr_kn_3days+file))\n",
    "    rumour_num = tweet[\"in_reply_to_status_id\"]\n",
    "    rumour_str = tweet[\"in_reply_to_status_id_str\"]\n",
    "    \n",
    "    \n",
    "    if rumour_num != None:\n",
    "        if rumour_num in keralaReplies_num.keys():\n",
    "            keralaReplies_num[rumour_num].append(file.replace(\".json\",\"\"))\n",
    "            d1 += 1\n",
    "        else:\n",
    "            keralaReplies_num[rumour_num] = [file.replace(\".json\",\"\")]\n",
    "            d2 += 1\n",
    "            \n",
    "    if rumour_str != None:\n",
    "        if rumour_str in keralaReplies_str.keys():\n",
    "            keralaReplies_str[rumour_str].append(file.replace(\".json\",\"\"))\n",
    "            d3 += 1\n",
    "        else:\n",
    "            keralaReplies_str[rumour_str] = [file.replace(\".json\",\"\")]\n",
    "            d4 += 1"
   ]
  },
  {
   "cell_type": "code",
   "execution_count": 10,
   "metadata": {},
   "outputs": [],
   "source": [
    "pk.dump(florenceReplies_num, open(\"./florenceReplies_num\", \"wb\"))\n",
    "pk.dump(florenceReplies_str, open(\"./florenceReplies_str\", \"wb\"))\n",
    "pk.dump(keralaReplies_num, open(\"./keralaReplies_num\", \"wb\"))\n",
    "pk.dump(keralaReplies_str, open(\"./keralaReplies_str\", \"wb\"))"
   ]
  },
  {
   "cell_type": "code",
   "execution_count": 33,
   "metadata": {},
   "outputs": [],
   "source": [
    "florenceReplies_str = pk.load(open(\"./florenceReplies_str\", \"rb\"))\n",
    "keralaReplies_str = pk.load(open(\"./keralaReplies_str\", \"rb\"))\n",
    "florenceReplies_num = pk.load(open(\"./florenceReplies_num\", \"rb\"))\n",
    "keralaReplies_num = pk.load(open(\"./keralaReplies_num\", \"rb\"))"
   ]
  },
  {
   "cell_type": "code",
   "execution_count": 45,
   "metadata": {},
   "outputs": [
    {
     "name": "stderr",
     "output_type": "stream",
     "text": [
      "100%|████████████████████████████████| 150047/150047 [00:43<00:00, 3452.45it/s]\n"
     ]
    }
   ],
   "source": [
    "x = 0\n",
    "for rumour in tqdm(os.listdir(adr_fr_3days)):\n",
    "    rumour_id = json.load(open(adr_fr_3days+rumour))[\"id_str\"]\n",
    "    if rumour_id in florenceReplies_str:\n",
    "        replies_list = florenceReplies_str[rumour_id]\n",
    "        for reply in replies_list:\n",
    "            try:\n",
    "                shutil.move(adr_fn_3days+reply+\".json\", adr_fr_replies)\n",
    "            except:\n",
    "                x += 1"
   ]
  },
  {
   "cell_type": "code",
   "execution_count": 46,
   "metadata": {},
   "outputs": [
    {
     "name": "stderr",
     "output_type": "stream",
     "text": [
      "100%|██████████████████████████████████| 44576/44576 [00:24<00:00, 1806.74it/s]\n"
     ]
    }
   ],
   "source": [
    "y = 0\n",
    "for rumour in tqdm(os.listdir(adr_kr_3days)):\n",
    "    rumour_id = json.load(open(adr_kr_3days+rumour))[\"id_str\"]\n",
    "    if rumour_id in keralaReplies_str:\n",
    "        replies_list = keralaReplies_str[rumour_id]\n",
    "        for reply in replies_list:\n",
    "            try:\n",
    "                shutil.move(adr_kn_3days+reply+\".json\", adr_kr_replies)\n",
    "            except:\n",
    "                y += 1"
   ]
  }
 ],
 "metadata": {
  "kernelspec": {
   "display_name": "Python 3",
   "language": "python",
   "name": "python3"
  },
  "language_info": {
   "codemirror_mode": {
    "name": "ipython",
    "version": 3
   },
   "file_extension": ".py",
   "mimetype": "text/x-python",
   "name": "python",
   "nbconvert_exporter": "python",
   "pygments_lexer": "ipython3",
   "version": "3.6.7"
  }
 },
 "nbformat": 4,
 "nbformat_minor": 2
}

{
 "cells": [
  {
   "cell_type": "code",
   "execution_count": null,
   "metadata": {},
   "outputs": [],
   "source": [
    "import json\n",
    "import os\n",
    "import pickle as pk\n",
    "from tqdm import tqdm"
   ]
  },
  {
   "cell_type": "code",
   "execution_count": null,
   "metadata": {},
   "outputs": [],
   "source": [
    "florenceRumoursAdr = \"\"\n",
    "florenceRumours = []\n",
    "counter = 0\n",
    "chunk_size = 50000\n",
    "length = len(os.listdir(florenceRumoursAdr))\n",
    "\n",
    "for file in tqdm(os.listdir(florenceRumoursAdr)):\n",
    "    counter += 1\n",
    "    florenceRumours.append(json.load(open(florenceRumoursAdr+file)))\n",
    "    if counter % chunk_size == 0 or counter == length:\n",
    "        pk.dump(florenceRumours, open(f\"./Serialization/Tweets/florenceRumours_{counter}.pk\", \"wb\"))\n",
    "        florenceRumours = []"
   ]
  },
  {
   "cell_type": "code",
   "execution_count": null,
   "metadata": {},
   "outputs": [],
   "source": [
    "florenceNonRumoursAdr = \"\"\n",
    "florenceNonRumours = []\n",
    "counter = 0\n",
    "chunk_size = 50000\n",
    "length = len(os.listdir(florenceNonRumoursAdr))\n",
    "\n",
    "for file in tqdm(os.listdir(florenceNonRumoursAdr)):\n",
    "    counter += 1\n",
    "    florenceNonRumours.append(json.load(open(florenceNonRumoursAdr+file)))\n",
    "    if counter % chunk_size == 0 or counter == length:\n",
    "        pk.dump(florenceNonRumours, open(f\"./Serialization/Tweets/florenceNonRumours_{counter}.pk\", \"wb\"))\n",
    "        florenceNonRumours = []"
   ]
  },
  {
   "cell_type": "code",
   "execution_count": null,
   "metadata": {},
   "outputs": [],
   "source": [
    "keralaRumoursAdr = \"\"\n",
    "keralaRumours = []\n",
    "counter = 0\n",
    "chunk_size = 50000\n",
    "length = len(os.listdir(keralaRumoursAdr))\n",
    "\n",
    "for file in tqdm(os.listdir(keralaRumoursAdr)):\n",
    "    counter += 1\n",
    "    keralaRumours.append(json.load(open(keralaRumoursAdr+file)))\n",
    "    if counter % chunk_size == 0 or counter == length:\n",
    "        pk.dump(keralaRumours, open(f\"./Serialization/Tweets/keralaRumours_{counter}.pk\", \"wb\"))\n",
    "        keralaRumours = []"
   ]
  },
  {
   "cell_type": "code",
   "execution_count": null,
   "metadata": {},
   "outputs": [],
   "source": [
    "keralaNonRumoursAdr = \"\"\n",
    "keralaNonRumours = []\n",
    "counter = 0\n",
    "chunk_size = 50000\n",
    "length = len(os.listdir(keralaNonRumoursAdr))\n",
    "\n",
    "for file in tqdm(os.listdir(keralaNonRumoursAdr)):\n",
    "    counter += 1\n",
    "    keralaNonRumours.append(json.load(open(keralaNonRumoursAdr+file)))\n",
    "    if counter % chunk_size == 0 or counter == length:\n",
    "        pk.dump(keralaNonRumours, open(f\"./Serialization/Tweets/keralaNonRumours_{counter}.pk\", \"wb\"))\n",
    "        keralaNonRumours = []"
   ]
  }
 ],
 "metadata": {
  "kernelspec": {
   "display_name": "Python 3",
   "language": "python",
   "name": "python3"
  },
  "language_info": {
   "codemirror_mode": {
    "name": "ipython",
    "version": 3
   },
   "file_extension": ".py",
   "mimetype": "text/x-python",
   "name": "python",
   "nbconvert_exporter": "python",
   "pygments_lexer": "ipython3",
   "version": "3.6.7"
  }
 },
 "nbformat": 4,
 "nbformat_minor": 2
}

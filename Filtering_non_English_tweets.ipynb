{
 "cells": [
  {
   "cell_type": "code",
   "execution_count": null,
   "metadata": {},
   "outputs": [],
   "source": [
    "import os\n",
    "import json\n",
    "import shutil\n",
    "from tqdm import tqdm\n",
    "import pickle as pk\n",
    "import pandas as pd\n",
    "import re\n",
    "import copy"
   ]
  },
  {
   "cell_type": "code",
   "execution_count": null,
   "metadata": {},
   "outputs": [],
   "source": [
    "adr_fr_3days = \"\"\n",
    "adr_kr_3days = \"\"\n",
    "adr_fnr_3days = \"\"\n",
    "adr_knr_3days = \"\"\n",
    "\n",
    "adr_fr_3days_nonEng = \"\"\n",
    "adr_kr_3days_nonEng = \"\""
   ]
  },
  {
   "cell_type": "code",
   "execution_count": null,
   "metadata": {},
   "outputs": [],
   "source": [
    "for file in tqdm(os.listdir(adr_fr_3days)):\n",
    "    tweet = json.load(open(adr_fr_3days+file))\n",
    "    if tweet[\"lang\"] != \"en\":\n",
    "        shutil.move(adr_fr_3days+file,adr_fr_3days_nonEng)"
   ]
  },
  {
   "cell_type": "code",
   "execution_count": null,
   "metadata": {},
   "outputs": [],
   "source": [
    "for file in tqdm(os.listdir(adr_fnr_3days)):\n",
    "    tweet = json.load(open(adr_fnr_3days+file))\n",
    "    if tweet[\"lang\"] != \"en\":\n",
    "        shutil.move(adr_fnr_3days+file,adr_fr_3days_nonEng)"
   ]
  },
  {
   "cell_type": "code",
   "execution_count": null,
   "metadata": {},
   "outputs": [],
   "source": [
    "for file in tqdm(os.listdir(adr_kr_3days)):\n",
    "    tweet = json.load(open(adr_kr_3days+file))\n",
    "    if tweet[\"lang\"] != \"en\":\n",
    "        shutil.move(adr_kr_3days+file,adr_kr_3days_nonEng)"
   ]
  },
  {
   "cell_type": "code",
   "execution_count": null,
   "metadata": {},
   "outputs": [],
   "source": [
    "for file in tqdm(os.listdir(adr_knr_3days)):\n",
    "    tweet = json.load(open(adr_knr_3days+file))\n",
    "    if tweet[\"lang\"] != \"en\":\n",
    "        shutil.move(adr_knr_3days+file,adr_kr_3days_nonEng)"
   ]
  }
 ],
 "metadata": {
  "kernelspec": {
   "display_name": "Python 3",
   "language": "python",
   "name": "python3"
  },
  "language_info": {
   "codemirror_mode": {
    "name": "ipython",
    "version": 3
   },
   "file_extension": ".py",
   "mimetype": "text/x-python",
   "name": "python",
   "nbconvert_exporter": "python",
   "pygments_lexer": "ipython3",
   "version": "3.6.7"
  }
 },
 "nbformat": 4,
 "nbformat_minor": 2
}
